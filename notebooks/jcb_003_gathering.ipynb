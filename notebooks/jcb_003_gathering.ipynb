{
 "cells": [
  {
   "cell_type": "code",
   "execution_count": 1,
   "metadata": {},
   "outputs": [],
   "source": [
    "import requests\n",
    "from pprint import pprint as pp\n",
    "import numpy as np\n",
    "import pandas as pd"
   ]
  },
  {
   "cell_type": "markdown",
   "metadata": {},
   "source": [
    "# Actions to get all the game ID urls for every season\n",
    "A list of urls for every game from the years that are in the range entered."
   ]
  },
  {
   "cell_type": "code",
   "execution_count": 9,
   "metadata": {},
   "outputs": [],
   "source": [
    "url_list = []\n",
    "for year in range(2009,2019):\n",
    "    url = \"http://www.nfl.com/feeds-rs/schedules/{}.json\".format(year)\n",
    "    game_id_url = \"http://www.nfl.com/feeds-rs/scores/byGame/\"\n",
    "    response = requests.get(url)\n",
    "    results = response.json()\n",
    "    games = results['gameSchedules']\n",
    "    game_ids = []\n",
    "    game_ids = [\"{}{}.json\".format(game_id_url, item[-1]) for game in games for item in game.items() if item[0] == \"gameId\"]\n",
    "    url_list.extend(game_ids)"
   ]
  },
  {
   "cell_type": "markdown",
   "metadata": {},
   "source": [
    "# Actions to get info for game\n",
    "These actions call the NFL API and parse the json request that is returned. <br>\n",
    "The information is then loaded into a pandas DataFrame object and exported as a \".csv\" file."
   ]
  },
  {
   "cell_type": "code",
   "execution_count": 5,
   "metadata": {
    "scrolled": false
   },
   "outputs": [],
   "source": [
    "def parse_data(url):\n",
    "    row = []\n",
    "    g_response = requests.get(url)\n",
    "    g_results = g_response.json()\n",
    "    for sect in g_results.items():\n",
    "        if sect[0] == 'gameSchedule':\n",
    "            for item in sect[-1].items():\n",
    "                if (item[0] == \"visitorTeam\"):\n",
    "                    continue\n",
    "                elif (item[0] == \"homeTeam\"):\n",
    "                    for it in item[-1].items():\n",
    "                        if it[0] == \"teamId\":\n",
    "                            team_id = it[-1]\n",
    "                elif (item[0] == \"gameId\"):\n",
    "                    game_id = item[-1]\n",
    "                elif (item[0] == \"site\"):\n",
    "                    for it in item[-1].items():\n",
    "                        row.append(it[-1])\n",
    "                else:\n",
    "                    row.append(item[-1])\n",
    "        else:\n",
    "            for item in sect[-1].items():\n",
    "                if (item[0] == 'homeTeamScore') | (item[0] == 'visitorTeamScore'):\n",
    "                    tot = item[-1].get('pointTotal')\n",
    "                    row.append(tot)\n",
    "        stat_url = \"http://www.nfl.com/feeds-rs/teamGameStats/{}/{}.json\".format(team_id, game_id)\n",
    "    s_response = requests.get(stat_url)\n",
    "    s_results = s_response.json()\n",
    "    home_team_stat_line = s_results['teamStatDetail']\n",
    "    visitor_team_stat_line = s_results['opponentStatDetail']\n",
    "    teams_stats = [home_team_stat_line, visitor_team_stat_line]\n",
    "    for team in teams_stats:\n",
    "        for item in team.items():\n",
    "            row.append(item[-1])\n",
    "    return row"
   ]
  },
  {
   "cell_type": "code",
   "execution_count": 6,
   "metadata": {},
   "outputs": [],
   "source": [
    "def get_columns(url):\n",
    "    row = []\n",
    "    g_response = requests.get(url)\n",
    "    g_results = g_response.json()\n",
    "    for sect in g_results.items():\n",
    "        if sect[0] == 'gameSchedule':\n",
    "            for item in sect[-1].items():\n",
    "                if (item[0] == \"visitorTeam\"):\n",
    "                    continue\n",
    "                elif (item[0] == \"homeTeam\"):\n",
    "                    for it in item[-1].items():\n",
    "                        if it[0] == \"teamId\":\n",
    "                            team_id = it[-1]\n",
    "                elif (item[0] == \"gameId\"):\n",
    "                    game_id = item[-1]\n",
    "                elif (item[0] == \"site\"):\n",
    "                    for it in item[-1].items():\n",
    "                        row.append(it[0])\n",
    "                else:\n",
    "                    row.append(item[0])\n",
    "        else:\n",
    "            for item in sect[-1].items():\n",
    "                if (item[0] == 'homeTeamScore') | (item[0] == 'visitorTeamScore'):\n",
    "                    row.append(item[0])\n",
    "        stat_url = \"http://www.nfl.com/feeds-rs/teamGameStats/{}/{}.json\".format(team_id, game_id)\n",
    "    s_response = requests.get(stat_url)\n",
    "    s_results = s_response.json()\n",
    "    home_team_stat_line = s_results['teamStatDetail']\n",
    "    visitor_team_stat_line = s_results['opponentStatDetail']\n",
    "    teams_stats = [home_team_stat_line, visitor_team_stat_line]\n",
    "    for team in teams_stats:\n",
    "        for item in team.items():\n",
    "            row.append(item[0])\n",
    "    return row"
   ]
  },
  {
   "cell_type": "code",
   "execution_count": null,
   "metadata": {},
   "outputs": [],
   "source": [
    "data = []\n",
    "for l in url_list[1:]:\n",
    "    try:\n",
    "        row = parse_data(l)\n",
    "        data.append(row)\n",
    "    except:\n",
    "        print(\"Skipped!\")"
   ]
  },
  {
   "cell_type": "code",
   "execution_count": 65,
   "metadata": {},
   "outputs": [],
   "source": [
    "url_for_columns = url_list[0]\n",
    "all_stats = get_columns(url_for_columns)\n",
    "all_columns = get_columns(url_for_columns)\n",
    "game_columns = all_columns[:24]\n",
    "stat_columns = all_columns[24:]\n",
    "cols = stat_columns[:109]\n",
    "\n",
    "home_columns = []\n",
    "for col in cols:\n",
    "    home_columns.append(\"H{}\".format(col))\n",
    "\n",
    "visitor_columns = []\n",
    "for col in cols:\n",
    "    visitor_columns.append(\"V{}\".format(col))\n",
    "\n",
    "final_columns = []\n",
    "final_columns.extend(game_columns)\n",
    "final_columns.extend(home_columns)\n",
    "final_columns.extend(visitor_columns)"
   ]
  },
  {
   "cell_type": "code",
   "execution_count": null,
   "metadata": {},
   "outputs": [],
   "source": [
    "df = pd.DataFrame(data)\n",
    "df.columns = final_columns\n",
    "df.to_csv(\"../data/interim/game_data.csv\", index=False)"
   ]
  },
  {
   "cell_type": "code",
   "execution_count": null,
   "metadata": {},
   "outputs": [],
   "source": []
  },
  {
   "cell_type": "code",
   "execution_count": null,
   "metadata": {},
   "outputs": [],
   "source": []
  }
 ],
 "metadata": {
  "kernelspec": {
   "display_name": "Python 3",
   "language": "python",
   "name": "python3"
  },
  "language_info": {
   "codemirror_mode": {
    "name": "ipython",
    "version": 3
   },
   "file_extension": ".py",
   "mimetype": "text/x-python",
   "name": "python",
   "nbconvert_exporter": "python",
   "pygments_lexer": "ipython3",
   "version": "3.7.0"
  }
 },
 "nbformat": 4,
 "nbformat_minor": 2
}
